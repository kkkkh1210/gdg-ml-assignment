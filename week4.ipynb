{
  "nbformat": 4,
  "nbformat_minor": 0,
  "metadata": {
    "colab": {
      "provenance": [],
      "mount_file_id": "1vMV7UuncyOKvmB7R9YPj30PcgTQ3tBaw",
      "authorship_tag": "ABX9TyPyGW2sKFaukHq4M64dAIES",
      "include_colab_link": true
    },
    "kernelspec": {
      "name": "python3",
      "display_name": "Python 3"
    },
    "language_info": {
      "name": "python"
    }
  },
  "cells": [
    {
      "cell_type": "markdown",
      "metadata": {
        "id": "view-in-github",
        "colab_type": "text"
      },
      "source": [
        "<a href=\"https://colab.research.google.com/github/kkkkh1210/gdg-ml-assignment/blob/main/week4.ipynb\" target=\"_parent\"><img src=\"https://colab.research.google.com/assets/colab-badge.svg\" alt=\"Open In Colab\"/></a>"
      ]
    },
    {
      "cell_type": "code",
      "execution_count": 1,
      "metadata": {
        "colab": {
          "base_uri": "https://localhost:8080/"
        },
        "collapsed": true,
        "id": "wBLldgWqzTi7",
        "outputId": "667ec226-130c-46a1-96fa-dc2f7d0503dd"
      },
      "outputs": [
        {
          "output_type": "stream",
          "name": "stderr",
          "text": [
            "/usr/local/lib/python3.11/dist-packages/xgboost/core.py:158: UserWarning: [17:32:06] WARNING: /workspace/src/learner.cc:740: \n",
            "Parameters: { \"use_label_encoder\" } are not used.\n",
            "\n",
            "  warnings.warn(smsg, UserWarning)\n",
            "/usr/local/lib/python3.11/dist-packages/xgboost/core.py:158: UserWarning: [17:32:06] WARNING: /workspace/src/learner.cc:740: \n",
            "Parameters: { \"use_label_encoder\" } are not used.\n",
            "\n",
            "  warnings.warn(smsg, UserWarning)\n",
            "/usr/local/lib/python3.11/dist-packages/xgboost/core.py:158: UserWarning: [17:32:06] WARNING: /workspace/src/learner.cc:740: \n",
            "Parameters: { \"use_label_encoder\" } are not used.\n",
            "\n",
            "  warnings.warn(smsg, UserWarning)\n",
            "/usr/local/lib/python3.11/dist-packages/xgboost/core.py:158: UserWarning: [17:32:06] WARNING: /workspace/src/learner.cc:740: \n",
            "Parameters: { \"use_label_encoder\" } are not used.\n",
            "\n",
            "  warnings.warn(smsg, UserWarning)\n"
          ]
        },
        {
          "output_type": "stream",
          "name": "stdout",
          "text": [
            "Best model: XGBoost, Accuracy: 0.8238, File saved: titanic_best_XGBoost.csv\n"
          ]
        },
        {
          "output_type": "stream",
          "name": "stderr",
          "text": [
            "/usr/local/lib/python3.11/dist-packages/xgboost/core.py:158: UserWarning: [17:32:06] WARNING: /workspace/src/learner.cc:740: \n",
            "Parameters: { \"use_label_encoder\" } are not used.\n",
            "\n",
            "  warnings.warn(smsg, UserWarning)\n",
            "/usr/local/lib/python3.11/dist-packages/xgboost/core.py:158: UserWarning: [17:32:06] WARNING: /workspace/src/learner.cc:740: \n",
            "Parameters: { \"use_label_encoder\" } are not used.\n",
            "\n",
            "  warnings.warn(smsg, UserWarning)\n"
          ]
        }
      ],
      "source": [
        "# Titanic: 최종 모델 선정 및 예측 제출 파이프라인\n",
        "\n",
        "import pandas as pd\n",
        "import numpy as np\n",
        "from sklearn.model_selection import cross_val_score\n",
        "from sklearn.preprocessing import StandardScaler\n",
        "from sklearn.ensemble import RandomForestClassifier\n",
        "from sklearn.linear_model import LogisticRegression\n",
        "from xgboost import XGBClassifier\n",
        "from sklearn.metrics import accuracy_score\n",
        "\n",
        "# 1. 데이터 불러오기\n",
        "train = pd.read_csv(\"/content/drive/MyDrive/Colab Notebooks/titanic/train.csv\")\n",
        "test = pd.read_csv(\"/content/drive/MyDrive/Colab Notebooks/titanic/test.csv\")\n",
        "\n",
        "\n",
        "# 제출용 ID 저장\n",
        "test_ids = test['PassengerId']\n",
        "\n",
        "# 2. 전처리 함수 정의\n",
        "def preprocess(df):\n",
        "    df = df.copy()\n",
        "    df['Sex'] = df['Sex'].map({'male': 0, 'female': 1})\n",
        "    df['Age'] = df['Age'].fillna(df['Age'].median())\n",
        "    df['Embarked'] = df['Embarked'].fillna(df['Embarked'].mode()[0])\n",
        "    df['Fare'] = df['Fare'].fillna(df['Fare'].median())\n",
        "    df = df.drop(columns=['Cabin', 'Name', 'Ticket'])\n",
        "    df = pd.get_dummies(df, columns=['Embarked'], drop_first=True)\n",
        "    return df\n",
        "\n",
        "train_proc = preprocess(train)\n",
        "test_proc = preprocess(test)\n",
        "\n",
        "X = train_proc.drop(columns=['Survived', 'PassengerId'])\n",
        "y = train_proc['Survived']\n",
        "X_test_final = test_proc.drop(columns=['PassengerId'])\n",
        "\n",
        "# 3. 스케일링\n",
        "scaler = StandardScaler()\n",
        "X_scaled = scaler.fit_transform(X)\n",
        "X_test_scaled = scaler.transform(X_test_final)\n",
        "\n",
        "# 4. 모델 정의 및 성능 비교 (LightGBM 제외)\n",
        "models = {\n",
        "    'LogisticRegression': LogisticRegression(max_iter=1000),\n",
        "    'RandomForest': RandomForestClassifier(n_estimators=100, random_state=42),\n",
        "    'XGBoost': XGBClassifier(use_label_encoder=False, eval_metric='logloss')\n",
        "}\n",
        "\n",
        "results = {}\n",
        "for name, model in models.items():\n",
        "    model.fit(X_scaled, y)\n",
        "    scores = cross_val_score(model, X_scaled, y, cv=5, scoring='accuracy')\n",
        "    results[name] = {\n",
        "        'model': model,\n",
        "        'mean_cv_accuracy': scores.mean()\n",
        "    }\n",
        "\n",
        "# 5. 최고 성능 모델 선택\n",
        "best_model_name = max(results, key=lambda x: results[x]['mean_cv_accuracy'])\n",
        "best_model = results[best_model_name]['model']\n",
        "best_accuracy = results[best_model_name]['mean_cv_accuracy']\n",
        "\n",
        "# 6. 테스트셋 예측 및 제출 파일 생성\n",
        "preds = best_model.predict(X_test_scaled)\n",
        "submission = pd.DataFrame({\n",
        "    'PassengerId': test_ids,\n",
        "    'Survived': preds\n",
        "})\n",
        "\n",
        "# 저장\n",
        "filename = f\"titanic_best_{best_model_name}.csv\"\n",
        "submission.to_csv(filename, index=False)\n",
        "print(f\"Best model: {best_model_name}, Accuracy: {best_accuracy:.4f}, File saved: {filename}\")\n"
      ]
    }
  ]
}